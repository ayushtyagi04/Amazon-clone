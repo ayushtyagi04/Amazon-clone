{
  "nbformat": 4,
  "nbformat_minor": 0,
  "metadata": {
    "colab": {
      "provenance": [],
      "include_colab_link": true
    },
    "kernelspec": {
      "name": "python3",
      "display_name": "Python 3"
    },
    "language_info": {
      "name": "python"
    }
  },
  "cells": [
    {
      "cell_type": "markdown",
      "metadata": {
        "id": "view-in-github",
        "colab_type": "text"
      },
      "source": [
        "<a href=\"https://colab.research.google.com/github/ayushtyagi04/Amazon-clone/blob/main/AyushTyagi_ABTest.ipynb\" target=\"_parent\"><img src=\"https://colab.research.google.com/assets/colab-badge.svg\" alt=\"Open In Colab\"/></a>"
      ]
    },
    {
      "cell_type": "code",
      "execution_count": null,
      "metadata": {
        "id": "AG5XcEK9iZWG"
      },
      "outputs": [],
      "source": [
        "#1. Simulate Data\n",
        "\n",
        "import numpy as np\n",
        "from scipy import stats\n",
        "import pandas as pd\n",
        "import matplotlib.pyplot as plt\n",
        "from statsmodels.stats.proportion import proportions_ztest"
      ]
    },
    {
      "cell_type": "code",
      "source": [
        "np.random.seed(42)"
      ],
      "metadata": {
        "id": "jlxDWqgxLSQG"
      },
      "execution_count": null,
      "outputs": []
    },
    {
      "cell_type": "code",
      "source": [
        "#Assume 10,000 visitors each\n",
        "n_A , p_A = 10_000 , 0.10   #Variant A: 10% true conversion\n",
        "n_B , p_B = 10_000 , 0.12   #Variant B: 12% true conversion"
      ],
      "metadata": {
        "id": "E0G15praLSfG"
      },
      "execution_count": null,
      "outputs": []
    },
    {
      "cell_type": "code",
      "source": [
        "#Simulate number of purchases\n",
        "success_A= np.random.binomial (n_A,p_A)\n",
        "success_B = np.random.binomial (n_B,p_B)"
      ],
      "metadata": {
        "id": "Tz8lrYhVLSsB"
      },
      "execution_count": null,
      "outputs": []
    },
    {
      "cell_type": "markdown",
      "source": [
        "#St- 2: Calculate conversion Rates at 95% confidence Interval\n"
      ],
      "metadata": {
        "id": "C16mstUelJpb"
      }
    },
    {
      "cell_type": "code",
      "source": [
        "def proportion_ci(successes, n, alpha=0.05):\n",
        "    p_hat = successes / n\n",
        "    z = stats.norm.ppf(1 - alpha/2)\n",
        "    se = np.sqrt(p_hat * (1 - p_hat) / n)\n",
        "    return p_hat, p_hat - z*se, p_hat + z*se"
      ],
      "metadata": {
        "id": "BkerG0oBlTj2"
      },
      "execution_count": null,
      "outputs": []
    },
    {
      "cell_type": "code",
      "source": [
        "p_A_hat, ci_low_A, ci_high_A = proportion_ci(success_A, n_A)\n",
        "p_B_hat, ci_low_B, ci_high_B = proportion_ci(success_B, n_B)"
      ],
      "metadata": {
        "id": "GyW7LJ7qLnSm"
      },
      "execution_count": null,
      "outputs": []
    },
    {
      "cell_type": "code",
      "source": [
        "results = pd.DataFrame({\n",
        "    'Variant': ['A', 'B'],\n",
        "    'Visitors': [n_A, n_B],\n",
        "    'Conversions': [success_A, success_B],\n",
        "    'CR (𝑝̂)': [p_A_hat, p_B_hat],\n",
        "    'CI Lower (95%)': [ci_low_A, ci_low_B],\n",
        "    'CI Upper (95%)': [ci_high_A, ci_high_B],\n",
        "})"
      ],
      "metadata": {
        "id": "G5ixKKLNLng7"
      },
      "execution_count": null,
      "outputs": []
    },
    {
      "cell_type": "code",
      "source": [
        "print(results)"
      ],
      "metadata": {
        "colab": {
          "base_uri": "https://localhost:8080/"
        },
        "id": "nVjmdvYiLntZ",
        "outputId": "dee288d1-510d-43fb-8de4-0c168a03899d"
      },
      "execution_count": null,
      "outputs": [
        {
          "output_type": "stream",
          "name": "stdout",
          "text": [
            "  Variant  Visitors  Conversions  CR (𝑝̂)  CI Lower (95%)  CI Upper (95%)\n",
            "0       A     10000          973   0.0973        0.091491        0.103109\n",
            "1       B     10000         1134   0.1134        0.107185        0.119615\n"
          ]
        }
      ]
    },
    {
      "cell_type": "code",
      "source": [
        "plt.figure(figsize=(6, 4))\n",
        "plt.bar(\n",
        "    results['Variant'],\n",
        "    results['CR (𝑝̂)'],\n",
        "    yerr=[\n",
        "        results['CR (𝑝̂)'] - results['CI Lower (95%)'],\n",
        "        results['CI Upper (95%)'] - results['CR (𝑝̂)']\n",
        "    ],\n",
        "    capsize=5,\n",
        "    color=['skyblue', 'salmon']\n",
        ")\n",
        "\n",
        "plt.ylabel('Conversion Rate')\n",
        "plt.title('A/B Test: Conversion Rate with 95% CI')\n",
        "plt.ylim(0, max(results['CI Upper (95%)']) + 0.02)\n",
        "plt.show()"
      ],
      "metadata": {
        "colab": {
          "base_uri": "https://localhost:8080/",
          "height": 391
        },
        "id": "lCBsnAgZlwLS",
        "outputId": "c319cfa7-7307-4951-da28-ea15037990ce"
      },
      "execution_count": null,
      "outputs": [
        {
          "output_type": "display_data",
          "data": {
            "text/plain": [
              "<Figure size 600x400 with 1 Axes>"
            ],
            "image/png": "[encoded data removed]"
          },
          "metadata": {}
        }
      ]
    },
    {
      "cell_type": "markdown",
      "source": [
        "#ST - 4 Z-Test (used in hypothesis testing)\n"
      ],
      "metadata": {
        "id": "4lQbXFB6qHq7"
      }
    },
    {
      "cell_type": "code",
      "source": [
        "#4. Two-Proportion z-Test\n",
        "\n",
        "# Test HO: p_B ≤ p_A vs H1: p_B > P_A\n",
        "\n",
        "count = np.array([success_B, success_A])\n",
        "\n",
        "nobs = np.array([n_B, n_A])\n",
        "\n",
        "z_stat, p_value = proportions_ztest(count, nobs, alternative='larger')\n",
        "\n",
        "print(f\"Z-statistic: {z_stat:.3f}\")\n",
        "\n",
        "print(f\"P-value: {p_value:.3f}\")\n",
        "\n",
        "if p_value < 0.05:\n",
        "  print(\"→ Reject HO: Variant B has a significantly higher conversion rate.\")\n",
        "\n",
        "else:\n",
        "  print(\"→ Fail to reject HO: No significant lift from B over A.\")"
      ],
      "metadata": {
        "colab": {
          "base_uri": "https://localhost:8080/"
        },
        "id": "jelZ1DbGqQjj",
        "outputId": "9ef8a0df-0561-450b-bb00-048826ad1b07"
      },
      "execution_count": null,
      "outputs": [
        {
          "output_type": "stream",
          "name": "stdout",
          "text": [
            "Z-statistic: 3.708\n",
            "P-value: 0.000\n",
            "→ Reject HO: Variant B has a significantly higher conversion rate.\n"
          ]
        }
      ]
    },
    {
      "cell_type": "markdown",
      "source": [
        "# REAL TIME monitoring and Sequential Testing\n"
      ],
      "metadata": {
        "id": "797v1Q-ttiVB"
      }
    },
    {
      "cell_type": "code",
      "source": [
        "import time\n",
        "from IPython.display import clear_output"
      ],
      "metadata": {
        "id": "9ge1flU3truR"
      },
      "execution_count": null,
      "outputs": []
    },
    {
      "cell_type": "code",
      "source": [
        "# Use the same true rates from above\n",
        "true_p_A, true_p_B = 0.10, 0.12"
      ],
      "metadata": {
        "id": "NXCB_BVHMGGp"
      },
      "execution_count": null,
      "outputs": []
    },
    {
      "cell_type": "code",
      "source": [
        "# Batch size\n",
        "batch_size = 100\n",
        "# Number of batches\n",
        "n_batches = 60"
      ],
      "metadata": {
        "id": "m-Z0V6u6MGXp"
      },
      "execution_count": null,
      "outputs": []
    },
    {
      "cell_type": "code",
      "source": [
        "# Visitors per batch per variant\n",
        "visitors_per_variant = batch_size"
      ],
      "metadata": {
        "id": "q_XRsuJSMGkw"
      },
      "execution_count": null,
      "outputs": []
    },
    {
      "cell_type": "code",
      "source": [
        "# Simulate 60 time steps (e.g. minutes)\n",
        "n_visits_A = 0\n",
        "n_visits_B = 0\n",
        "n_succ_A = 0\n",
        "n_succ_B = 0"
      ],
      "metadata": {
        "id": "BG0GnrqpMGxq"
      },
      "execution_count": null,
      "outputs": []
    },
    {
      "cell_type": "code",
      "source": [
        "# Lists to store metrics for plotting\n",
        "batches = []\n",
        "p_values = []\n",
        "lifts = []"
      ],
      "metadata": {
        "id": "UF2odmuEMHD3"
      },
      "execution_count": null,
      "outputs": []
    },
    {
      "cell_type": "code",
      "source": [
        "for batch in range(1, n_batches + 1):\n",
        "    # Simulate one batch of visitors\n",
        "    new_A = np.random.binomial(batch_size, true_p_A)\n",
        "    new_B = np.random.binomial(batch_size, true_p_B)\n",
        "\n",
        "    # Update totals\n",
        "    n_visits_A += batch_size\n",
        "    n_visits_B += batch_size\n",
        "\n",
        "    n_succ_A += new_A\n",
        "    n_succ_B += new_B\n",
        "\n",
        "    # Compute current conversion rates\n",
        "    cr_A = n_succ_A / n_visits_A\n",
        "    cr_B = n_succ_B / n_visits_B\n",
        "    lift = cr_B - cr_A\n",
        "\n",
        "    # Two-proportion z-test (one-sided: B > A)\n",
        "    count = np.array([n_succ_B, n_succ_A])\n",
        "    nobs = np.array([n_visits_B, n_visits_A])\n",
        "    z_stat, p_val = proportions_ztest(count, nobs, alternative='larger')\n",
        "\n",
        "    # Record for plotting\n",
        "    batches.append(batch)\n",
        "    p_values.append(p_val)\n",
        "    lifts.append(lift)\n",
        "\n",
        "    # Clear previous output and print current stats\n",
        "    clear_output(wait=True)\n",
        "    print(f\"Batch {batch}/{n_batches}\")\n",
        "    print(f\"Variant A: {n_visits_A} visits, {n_succ_A} buys, CR = {cr_A:.3%}\")\n",
        "    print(f\"Variant B: {n_visits_B} visits, {n_succ_B} buys, CR = {cr_B:.3%}\")\n",
        "    print(f\"Observed lift: {lift:.3%}\")\n",
        "    print(f\"z-stat = {z_stat:.2f}, p-value = {p_val:.4f}\")\n",
        "    if p_val < 0.05:\n",
        "        print(\"Significant lift detected (p < 0.05).\")\n",
        "    else:\n",
        "        print(\"No significant lift yet.\")"
      ],
      "metadata": {
        "colab": {
          "base_uri": "https://localhost:8080/"
        },
        "id": "5_0M3KpX10Z7",
        "outputId": "643707dc-ba3c-4e9a-beb8-e2fc4d43c41f"
      },
      "execution_count": null,
      "outputs": [
        {
          "output_type": "stream",
          "name": "stdout",
          "text": [
            "Batch 60/60\n",
            "Variant A: 6000 visits, 574 buys, CR = 9.567%\n",
            "Variant B: 6000 visits, 714 buys, CR = 11.900%\n",
            "Observed lift: 2.333%\n",
            "z-stat = 4.13, p-value = 0.0000\n",
            "Significant lift detected (p < 0.05).\n"
          ]
        }
      ]
    },
    {
      "cell_type": "code",
      "source": [
        "# Plot p-value and lift over batches\n",
        "fig, axes = plt.subplots(1, 2, figsize=(12, 4))\n",
        "\n",
        "axes[0].plot(batches, p_values, 'o-')\n",
        "axes[0].axhline(0.05, color='red', linestyle='--', label='α = 0.05')\n",
        "axes[0].set_title('Sequential p-value')\n",
        "axes[0].set_xlabel('Batch number')\n",
        "axes[0].set_ylabel('p-value')\n",
        "axes[0].legend()\n",
        "\n",
        "axes[1].plot(batches, lifts, 'o-')\n",
        "axes[1].set_title('Observed Lift (CR_B - CR_A)')\n",
        "axes[1].set_xlabel('Batch number')\n",
        "axes[1].set_ylabel('Lift')\n",
        "\n",
        "plt.tight_layout()\n",
        "plt.show()\n",
        "time.sleep(0.9)"
      ],
      "metadata": {
        "colab": {
          "base_uri": "https://localhost:8080/",
          "height": 407
        },
        "id": "lxkmn_PmMcvr",
        "outputId": "8c3a6943-02d5-4957-e848-99372f2b0ed1"
      },
      "execution_count": null,
      "outputs": [
        {
          "output_type": "display_data",
          "data": {
            "text/plain": [
              "<Figure size 1200x400 with 2 Axes>"
            ],
            "image/png": "[encoded data removed]"
          },
          "metadata": {}
        }
      ]
    },
    {
      "cell_type": "code",
      "source": [],
      "metadata": {
        "id": "kv4ZnlVwMk5Q"
      },
      "execution_count": null,
      "outputs": []
    }
  ]
}